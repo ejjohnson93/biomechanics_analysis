{
 "cells": [
  {
   "cell_type": "markdown",
   "metadata": {},
   "source": [
    "# Notebook to combine results from all experiments\n",
    "## 20/12/2021\n",
    "### Required python version: 3.6 \n",
    "\n",
    "The following is a notebook that will combine the results from all the different date organised folders into one master spreadsheet. \n",
    "The results were generated using the batch_biomechanics_csv.py script in combination with the run_analysis.sh script:\n",
    "\n",
    "```\n",
    "\n",
    "for i in $(cut -f 1 date_index.tsv); do\n",
    "   echo ${i}\n",
    "   cd ${i}\n",
    "\n",
    "   cp /mnt/share/EMILYJ-CompMod/biomechanics_organised_python_analysis/tendon_data_formatted.csv ./\n",
    "   python /mnt/share/EMILYJ-CompMod/biomechanics_organised_python_analysis/batch_biomechanics_csv.py\n",
    "\n",
    "   cd ..\n",
    "\n",
    "done\n",
    "```\n",
    "<br>Contact Emily Johnson at ejohn16@liv.ac.uk or em.j.johnson.93@gmail.com if you're having trouble getting this notebook to work. "
   ]
  },
  {
   "cell_type": "code",
   "execution_count": 1,
   "metadata": {},
   "outputs": [],
   "source": [
    "# Load packages\n",
    "\n",
    "import pandas as pd\n",
    "import numpy as np\n",
    "import os\n",
    "import sys \n",
    "import re"
   ]
  },
  {
   "cell_type": "code",
   "execution_count": 6,
   "metadata": {},
   "outputs": [],
   "source": [
    "dir = os.getcwd()\n",
    "subfolders = [ f.name for f in os.scandir(dir) if f.is_dir() ]"
   ]
  },
  {
   "cell_type": "code",
   "execution_count": 9,
   "metadata": {},
   "outputs": [],
   "source": [
    "summary_data = {}\n",
    "for folder in subfolders:\n",
    "    summary_data[folder] = pd.read_csv(\"{}/{}/results_summary.csv\".format(dir, folder), header=0)"
   ]
  },
  {
   "cell_type": "code",
   "execution_count": 13,
   "metadata": {},
   "outputs": [],
   "source": [
    "all_data = pd.concat(summary_data.values(), ignore_index=True)"
   ]
  },
  {
   "cell_type": "code",
   "execution_count": 22,
   "metadata": {},
   "outputs": [],
   "source": [
    "all_data.to_csv(\"{}/all_results_summary.csv\".format(dir), index=False)"
   ]
  }
 ],
 "metadata": {
  "interpreter": {
   "hash": "ea621206bf03f48c7f77a3fb1588963d8808e1ae8428dc6e66db249e7a2ec6d2"
  },
  "kernelspec": {
   "display_name": "Python 3.6.10 64-bit ('py36': conda)",
   "name": "python3"
  },
  "language_info": {
   "codemirror_mode": {
    "name": "ipython",
    "version": 3
   },
   "file_extension": ".py",
   "mimetype": "text/x-python",
   "name": "python",
   "nbconvert_exporter": "python",
   "pygments_lexer": "ipython3",
   "version": "3.6.10"
  },
  "orig_nbformat": 4
 },
 "nbformat": 4,
 "nbformat_minor": 2
}
